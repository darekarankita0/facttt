{
 "cells": [
  {
   "cell_type": "code",
   "execution_count": null,
   "metadata": {},
   "outputs": [
    {
     "name": "stdout",
     "output_type": "stream",
     "text": [
      " * Serving Flask app \"__main__\" (lazy loading)\n",
      " * Environment: production\n",
      "   WARNING: This is a development server. Do not use it in a production deployment.\n",
      "   Use a production WSGI server instead.\n",
      " * Debug mode: off\n"
     ]
    },
    {
     "name": "stderr",
     "output_type": "stream",
     "text": [
      " * Running on http://127.0.0.1:5000/ (Press CTRL+C to quit)\n",
      "127.0.0.1 - - [21/Jan/2021 17:10:18] \"\u001b[37mGET / HTTP/1.1\u001b[0m\" 200 -\n"
     ]
    }
   ],
   "source": [
    "from flask import Flask, render_template, request\n",
    "import requests\n",
    "from livereload import Server\n",
    "\n",
    "app = Flask(__name__)\n",
    "\n",
    "#@app.route('/')\n",
    "\n",
    "#def welcome():\n",
    " #   return \"Hello\"\n",
    "\n",
    "@app.route('/', methods=['GET','POST'])\n",
    "\n",
    "def facts():\n",
    "    import numpy as np\n",
    "    import pandas as pd\n",
    "    import random\n",
    "    import time\n",
    "    data = pd.read_csv('facts.csv')\n",
    "    df=pd.DataFrame(data , columns = ['Facts'])\n",
    "    while True:\n",
    "        dff=df.values.tolist()\n",
    "        value=random.choices(dff)\n",
    "        #print(value)\n",
    "        time.sleep(30)\n",
    "        return render_template('facts.html',value=value)\n",
    "        #return \" {} \".format(value)\n",
    "       # return \" {} \".format(value)\n",
    "        #return [(\" {} \".format(value)) , render_template('refresh.html')]\n",
    "        #return \" {} \".format(facts())\n",
    "        #def refresh():\n",
    "    #return render_template('refresh.html')\n",
    "    #return \" {} \".format(value)\n",
    "#@app.route('/', methods=['GET','POST'])\n",
    "#def refresh():\n",
    " #   return facts\n",
    "#@app.route('/facts', methods=['GET','POST'])\n",
    "#def refresh():\n",
    "    #return render_template('refresh.html')\n",
    "#def index():\n",
    " #   return 'Hello'\n",
    " #   #return render_template('index.html')\n",
    "\n",
    "\n",
    "\n",
    "if __name__=='__main__':\n",
    "    server = Server(app.wsgi_app)\n",
    "    #server.serve()\n",
    "    server.watch('/Views/*')\n",
    "    app.run(debug=False)\n",
    "    app.config['DEBUG'] = True\n",
    "    app.config['TEMPLATES_AUTO_RELOAD'] = True"
   ]
  },
  {
   "cell_type": "code",
   "execution_count": 2,
   "metadata": {},
   "outputs": [
    {
     "name": "stdout",
     "output_type": "stream",
     "text": [
      "Processing c:\\users\\dell\\appdata\\local\\pip\\cache\\wheels\\f2\\a1\\fa\\00775311351a48f78b4a0e40588eefdd6f2731cc8115d6957d\\livereload-2.6.3-py2.py3-none-any.whlNote: you may need to restart the kernel to use updated packages.\n",
      "\n",
      "Requirement already satisfied: six in c:\\users\\dell\\project\\lib\\site-packages (from livereload) (1.15.0)\n",
      "Requirement already satisfied: tornado; python_version > \"2.7\" in c:\\users\\dell\\project\\lib\\site-packages (from livereload) (6.0.4)\n",
      "Installing collected packages: livereload\n",
      "Successfully installed livereload-2.6.3\n"
     ]
    }
   ],
   "source": [
    "pip install livereload"
   ]
  },
  {
   "cell_type": "code",
   "execution_count": null,
   "metadata": {},
   "outputs": [],
   "source": []
  }
 ],
 "metadata": {
  "kernelspec": {
   "display_name": "Python 3",
   "language": "python",
   "name": "python3"
  },
  "language_info": {
   "codemirror_mode": {
    "name": "ipython",
    "version": 3
   },
   "file_extension": ".py",
   "mimetype": "text/x-python",
   "name": "python",
   "nbconvert_exporter": "python",
   "pygments_lexer": "ipython3",
   "version": "3.8.5"
  }
 },
 "nbformat": 4,
 "nbformat_minor": 5
}
